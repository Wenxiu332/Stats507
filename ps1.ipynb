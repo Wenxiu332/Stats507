{
 "cells": [
  {
   "cell_type": "markdown",
   "metadata": {},
   "source": [
    "# PS1"
   ]
  },
  {
   "cell_type": "code",
   "execution_count": 22,
   "metadata": {},
   "outputs": [],
   "source": [
    "import math\n",
    "import numpy as np\n",
    "import scipy.stats as st\n",
    "from timeit import Timer\n",
    "import pandas as pd\n",
    "from collections import defaultdict"
   ]
  },
  {
   "cell_type": "markdown",
   "metadata": {},
   "source": [
    "## Question 0"
   ]
  },
  {
   "cell_type": "markdown",
   "metadata": {},
   "source": [
    "\n",
    "This is question o\n",
    "\n",
    "> Question 0 is about Markdown.\n",
    "\n",
    "\n",
    "The next question is about the **Fibonnaci sequence**, *Fn=Fn−2+Fn−1*. In part **a** we will define a Python function `fib_rec()`.\n",
    "\n",
    "Below is a …\n",
    "\n",
    "### Level 3 Header\n",
    "\n",
    "Next, we can make a bulleted list:\n",
    "* Item 1\n",
    "    - detail 1\n",
    "    - detail 2\n",
    "* Item 2\n",
    "Finally, we can make an enumerated list:<br>\n",
    " a.Item 1<br>\n",
    " b.Item 2<br>\n",
    " c.Item 3<br>"
   ]
  },
  {
   "cell_type": "markdown",
   "metadata": {},
   "source": [
    "## Question 1\n",
    "### a"
   ]
  },
  {
   "cell_type": "code",
   "execution_count": 23,
   "metadata": {},
   "outputs": [
    {
     "name": "stdout",
     "output_type": "stream",
     "text": [
      "0\n",
      "1\n",
      "1\n",
      "13\n",
      "89\n",
      "233\n"
     ]
    }
   ],
   "source": [
    "\n",
    "def fib_rec(n):\n",
    "    if n==0:\n",
    "        return 0\n",
    "    elif n==1:\n",
    "        return 1\n",
    "    else:\n",
    "        return fib_rec(n-1) + fib_rec(n-2)\n",
    "print(fib_rec(0))\n",
    "print(fib_rec(1))\n",
    "print(fib_rec(2))   \n",
    "print(fib_rec(7))\n",
    "print(fib_rec(11))\n",
    "print(fib_rec(13))"
   ]
  },
  {
   "cell_type": "markdown",
   "metadata": {},
   "source": [
    "### b."
   ]
  },
  {
   "cell_type": "code",
   "execution_count": 24,
   "metadata": {},
   "outputs": [
    {
     "name": "stdout",
     "output_type": "stream",
     "text": [
      "0\n",
      "1\n",
      "1\n",
      "13\n",
      "89\n",
      "233\n"
     ]
    }
   ],
   "source": [
    "\n",
    "def fib_for(n):\n",
    "    first=0\n",
    "    second = 1\n",
    "    if n>1:\n",
    "        for num in range(n-1):\n",
    "            sum = first+second\n",
    "            first = second\n",
    "            second = sum\n",
    "        return sum\n",
    "    elif n==0:\n",
    "        return 0\n",
    "    else:\n",
    "        return 1\n",
    "print(fib_for(0))\n",
    "print(fib_for(1))\n",
    "print(fib_for(2))\n",
    "print(fib_for(7))\n",
    "print(fib_for(11))\n",
    "print(fib_for(13))  "
   ]
  },
  {
   "cell_type": "markdown",
   "metadata": {},
   "source": [
    "### c"
   ]
  },
  {
   "cell_type": "code",
   "execution_count": 25,
   "metadata": {},
   "outputs": [
    {
     "name": "stdout",
     "output_type": "stream",
     "text": [
      "0\n",
      "1\n",
      "1\n",
      "13\n",
      "89\n",
      "233\n"
     ]
    }
   ],
   "source": [
    "\n",
    "def fib_whl(n):\n",
    "    count = 0\n",
    "    n1,n2 = 0,1\n",
    "    if n>1:\n",
    "        while(count+1 < n):\n",
    "            nth = n1+n2\n",
    "            n1 = n2\n",
    "            n2 = nth\n",
    "            count +=1\n",
    "        return nth\n",
    "    elif n==1:\n",
    "        return 1;\n",
    "    else:\n",
    "        return 0\n",
    "print(fib_whl(0))\n",
    "print(fib_whl(1))\n",
    "print(fib_whl(2)) \n",
    "print(fib_whl(7))\n",
    "print(fib_whl(11))\n",
    "print(fib_whl(13))         "
   ]
  },
  {
   "cell_type": "markdown",
   "metadata": {},
   "source": [
    "### d"
   ]
  },
  {
   "cell_type": "code",
   "execution_count": 26,
   "metadata": {},
   "outputs": [
    {
     "name": "stdout",
     "output_type": "stream",
     "text": [
      "0\n",
      "1\n",
      "1\n",
      "13\n",
      "89\n",
      "233\n"
     ]
    }
   ],
   "source": [
    "\n",
    "def fib_rnd(n):\n",
    "    phi = (1+math.sqrt(5))/2\n",
    "    return round(math.pow(phi,n)/math.sqrt(5))\n",
    "print(fib_rnd(0))\n",
    "print(fib_rnd(1))\n",
    "print(fib_rnd(2)) \n",
    "print(fib_rnd(7))\n",
    "print(fib_rnd(11))\n",
    "print(fib_rnd(13))   "
   ]
  },
  {
   "cell_type": "markdown",
   "metadata": {},
   "source": [
    "### e."
   ]
  },
  {
   "cell_type": "code",
   "execution_count": 27,
   "metadata": {},
   "outputs": [
    {
     "name": "stdout",
     "output_type": "stream",
     "text": [
      "0\n",
      "1\n",
      "1\n",
      "13\n",
      "89\n",
      "233\n"
     ]
    }
   ],
   "source": [
    "\n",
    "def fib_flr(n):\n",
    "    phi = (1+math.sqrt(5))/2\n",
    "    return math.floor(pow(phi,n)/math.sqrt(5)+1/2)\n",
    "print(fib_flr(0))\n",
    "print(fib_flr(1))\n",
    "print(fib_flr(2)) \n",
    "print(fib_flr(7))\n",
    "print(fib_flr(11))\n",
    "print(fib_flr(13)) "
   ]
  },
  {
   "cell_type": "markdown",
   "metadata": {},
   "source": [
    "### f"
   ]
  },
  {
   "cell_type": "code",
   "execution_count": 28,
   "metadata": {
    "lines_to_next_cell": 2
   },
   "outputs": [
    {
     "data": {
      "text/html": [
       "<div>\n",
       "<style scoped>\n",
       "    .dataframe tbody tr th:only-of-type {\n",
       "        vertical-align: middle;\n",
       "    }\n",
       "\n",
       "    .dataframe tbody tr th {\n",
       "        vertical-align: top;\n",
       "    }\n",
       "\n",
       "    .dataframe thead th {\n",
       "        text-align: right;\n",
       "    }\n",
       "</style>\n",
       "<table border=\"1\" class=\"dataframe\">\n",
       "  <thead>\n",
       "    <tr style=\"text-align: right;\">\n",
       "      <th></th>\n",
       "      <th>fib_rec</th>\n",
       "      <th>fib_for</th>\n",
       "      <th>fib_whl</th>\n",
       "      <th>fib_rnd</th>\n",
       "      <th>fib_flr</th>\n",
       "    </tr>\n",
       "    <tr>\n",
       "      <th>n</th>\n",
       "      <th></th>\n",
       "      <th></th>\n",
       "      <th></th>\n",
       "      <th></th>\n",
       "      <th></th>\n",
       "    </tr>\n",
       "  </thead>\n",
       "  <tbody>\n",
       "    <tr>\n",
       "      <th>5</th>\n",
       "      <td>0.000005</td>\n",
       "      <td>0.000001</td>\n",
       "      <td>0.000002</td>\n",
       "      <td>1.836000e-06</td>\n",
       "      <td>1.824500e-06</td>\n",
       "    </tr>\n",
       "    <tr>\n",
       "      <th>10</th>\n",
       "      <td>0.000048</td>\n",
       "      <td>0.000002</td>\n",
       "      <td>0.000003</td>\n",
       "      <td>1.122000e-06</td>\n",
       "      <td>1.720000e-06</td>\n",
       "    </tr>\n",
       "    <tr>\n",
       "      <th>15</th>\n",
       "      <td>0.000558</td>\n",
       "      <td>0.000003</td>\n",
       "      <td>0.000004</td>\n",
       "      <td>1.835000e-06</td>\n",
       "      <td>1.879500e-06</td>\n",
       "    </tr>\n",
       "    <tr>\n",
       "      <th>20</th>\n",
       "      <td>0.004122</td>\n",
       "      <td>0.000002</td>\n",
       "      <td>0.000003</td>\n",
       "      <td>9.305000e-07</td>\n",
       "      <td>8.655000e-07</td>\n",
       "    </tr>\n",
       "  </tbody>\n",
       "</table>\n",
       "</div>"
      ],
      "text/plain": [
       "     fib_rec   fib_for   fib_whl       fib_rnd       fib_flr\n",
       "n                                                           \n",
       "5   0.000005  0.000001  0.000002  1.836000e-06  1.824500e-06\n",
       "10  0.000048  0.000002  0.000003  1.122000e-06  1.720000e-06\n",
       "15  0.000558  0.000003  0.000004  1.835000e-06  1.879500e-06\n",
       "20  0.004122  0.000002  0.000003  9.305000e-07  8.655000e-07"
      ]
     },
     "execution_count": 28,
     "metadata": {},
     "output_type": "execute_result"
    }
   ],
   "source": [
    "\n",
    "time_nda = defaultdict(list)\n",
    "for n in range(5,25,5):\n",
    "    for f in [fib_rec,fib_for, fib_whl, fib_rnd,fib_flr]:\n",
    "        t = Timer('f(n)', globals={'f': f, 'n':n})\n",
    "        tm = t.repeat(repeat=10, number = 1)\n",
    "        time_nda[n].append(np.median(tm))\n",
    "time_nda = pd.DataFrame(time_nda).transpose()\n",
    "time_nda.columns = ['fib_rec','fib_for', 'fib_whl', 'fib_rnd','fib_flr']\n",
    "index = time_nda.index\n",
    "index.name = \"n\"\n",
    "time_nda\n"
   ]
  },
  {
   "cell_type": "markdown",
   "metadata": {},
   "source": [
    "In the above table, value in cells are median runtime of five fib functions with n= 5,10,15,20. We observe that with increasnig n, fib_flr adn rib_rnd are faster than other three functions."
   ]
  },
  {
   "cell_type": "markdown",
   "metadata": {},
   "source": [
    "## Question 2\n",
    "### a."
   ]
  },
  {
   "cell_type": "code",
   "execution_count": 29,
   "metadata": {},
   "outputs": [
    {
     "name": "stdout",
     "output_type": "stream",
     "text": [
      "[1]\n",
      "[1, 1]\n",
      "[1, 2, 1]\n",
      "[1, 3, 3, 1]\n",
      "[1, 4, 6, 4, 1]\n"
     ]
    }
   ],
   "source": [
    "def pascal_row(n):\n",
    "    zeroCol = 1;\n",
    "    mylist = [zeroCol]\n",
    "    for i in range(n):\n",
    "        current = int(zeroCol * (n+1-(i+1))/(i+1))\n",
    "        zeroCol = current\n",
    "        mylist.append(zeroCol)\n",
    "    return mylist\n",
    "print(pascal_row(0))   \n",
    "print(pascal_row(1))\n",
    "print(pascal_row(2)) \n",
    "print(pascal_row(3))  \n",
    "print(pascal_row(4)) "
   ]
  },
  {
   "cell_type": "markdown",
   "metadata": {},
   "source": [
    "### b."
   ]
  },
  {
   "cell_type": "code",
   "execution_count": 30,
   "metadata": {},
   "outputs": [
    {
     "name": "stdout",
     "output_type": "stream",
     "text": [
      "           1 \n",
      "          1 1 \n",
      "         1 2 1 \n",
      "        1 3 3 1 \n",
      "       1 4 6 4 1 \n",
      "      1 5 10 10 5 1 \n",
      "     1 6 15 20 15 6 1 \n",
      "    1 7 21 35 35 21 7 1 \n",
      "   1 8 28 56 70 56 28 8 1 \n",
      "  1 9 36 84 126 126 84 36 9 1 \n"
     ]
    }
   ],
   "source": [
    "def print_pascal_row(n):\n",
    "    for i in range(n):\n",
    "        for j in range(n-i+1):\n",
    "            print(end=\" \")\n",
    "        for j in range(i+1):\n",
    "            print(pascal_row(i)[j], end=\" \")\n",
    "        print()\n",
    "print_pascal_row(10)"
   ]
  },
  {
   "cell_type": "markdown",
   "metadata": {},
   "source": [
    "## Question3\n",
    "### a."
   ]
  },
  {
   "cell_type": "code",
   "execution_count": 31,
   "metadata": {
    "lines_to_next_cell": 1
   },
   "outputs": [],
   "source": [
    "def give_output(est, lwr, upr, level, outformat):\n",
    "    est = round(est,4)\n",
    "    lwr = round(lwr, 4)\n",
    "    upr = round(upr, 4)\n",
    "    mydict = {'est':est, 'lwr':lwr, \n",
    "              'upr':upr, 'level':level}\n",
    "    if outformat == \"None\":\n",
    "        return mydict\n",
    "    else:\n",
    "        mystring = str(est)+ \"[\" + str(level) + \"%CI:(\" \n",
    "        mystring += str(lwr) \n",
    "        mystring +=  \",\"\n",
    "        mystring += str(upr) \n",
    "        mystring += \")]\"\n",
    "        return mystring"
   ]
  },
  {
   "cell_type": "code",
   "execution_count": 32,
   "metadata": {
    "lines_to_next_cell": 1
   },
   "outputs": [],
   "source": [
    "def normal_theory(data, level, outformat):\n",
    "    est = np.mean(data)\n",
    "    sd = st.sem(data)\n",
    "    lwr = est-st.norm.ppf(level/100)*sd\n",
    "    upr = est+st.norm.ppf(level/100)*sd\n",
    "    return give_output(est, lwr, upr, level, outformat)"
   ]
  },
  {
   "cell_type": "code",
   "execution_count": 33,
   "metadata": {},
   "outputs": [],
   "source": [
    "def compute_point_and_interval(data, level, outformat = \"string\"):\n",
    "    try:\n",
    "        mylist = np.array(data)\n",
    "    except:\n",
    "        print(\"invalid input.\")\n",
    "    else:\n",
    "        return normal_theory(mylist, level, outformat)"
   ]
  },
  {
   "cell_type": "code",
   "execution_count": 34,
   "metadata": {
    "lines_to_next_cell": 1
   },
   "outputs": [
    {
     "name": "stdout",
     "output_type": "stream",
     "text": [
      "2.0[99%CI:(0.6569,3.3431)]\n",
      "{'est': 2.0, 'lwr': 0.6569, 'upr': 3.3431, 'level': 99}\n"
     ]
    }
   ],
   "source": [
    "print(compute_point_and_interval([1,2,3], 99))  \n",
    "print(compute_point_and_interval([1,2,3], 99, 'None'))   "
   ]
  },
  {
   "cell_type": "code",
   "execution_count": 35,
   "metadata": {
    "lines_to_next_cell": 1
   },
   "outputs": [],
   "source": [
    "# ###b\n",
    "####i\n",
    "def compute_binomial_interval(data, level , method, outformat = \"string\"):\n",
    "    try:\n",
    "        mylist = np.array(data)\n",
    "    except:\n",
    "        print(\"invalid input.\")\n",
    "    else:\n",
    "        if(method == 'standard'):\n",
    "            return stardard(mylist,level,outformat = \"string\")\n",
    "        elif (method == 'clopper'):\n",
    "            return Clopper(mylist,level,outformat = \"string\")\n",
    "        elif (method == 'jeffery'):\n",
    "            return Jeffery(mylist,level,outformat = \"string\")\n",
    "        elif (method == 'agresti'):\n",
    "            return Agresti(mylist,level,outformat = \"string\")"
   ]
  },
  {
   "cell_type": "code",
   "execution_count": 36,
   "metadata": {
    "lines_to_next_cell": 1
   },
   "outputs": [],
   "source": [
    "def stardard(data, level, outformat = \"string\"):\n",
    "    n = data.size\n",
    "    x = sum(data)\n",
    "    p = x/n\n",
    "    z = st.norm.ppf(level/100)\n",
    "    if (n*p < 12 or n*(1-p) < 12):\n",
    "        print(\"Approximation condition not satisfied. \")\n",
    "    return give_output(p, p-z*math.sqrt(p*(1-p)/n), p+z*math.sqrt(p*(1-p)/n),level, outformat)"
   ]
  },
  {
   "cell_type": "code",
   "execution_count": 37,
   "metadata": {
    "lines_to_next_cell": 1
   },
   "outputs": [],
   "source": [
    "def Clopper(data, level, outformat = \"string\"):\n",
    "    alpha = (100- level)/100\n",
    "    n = data.size\n",
    "    x = sum(data)\n",
    "    lwr = st.beta.ppf(alpha/2, x, n-x+1)\n",
    "    upr = st.beta.ppf(1-alpha/2, x+1, n-x)\n",
    "    est = (lwr + upr)/2\n",
    "    return give_output(est, lwr, upr, level, outformat)"
   ]
  },
  {
   "cell_type": "code",
   "execution_count": 38,
   "metadata": {
    "lines_to_next_cell": 1
   },
   "outputs": [],
   "source": [
    "def Jeffery(data, level, outformat = \"string\"):\n",
    "    alpha = (100- level)/100\n",
    "    n = data.size\n",
    "    x = sum(data)\n",
    "    lwr = max(0, st.beta.ppf(alpha/2, x+0.5, n-x+0.5))\n",
    "    upr = min(1, st.beta.ppf(1-alpha/2, x+0.5, n-x+0.5))\n",
    "    est = (lwr + upr)/2\n",
    "    return give_output(est, lwr, upr, level, outformat)"
   ]
  },
  {
   "cell_type": "code",
   "execution_count": 39,
   "metadata": {},
   "outputs": [],
   "source": [
    "def Agresti(data, level, outformat = \"string\"):\n",
    "    z = st.norm.ppf(level/100)\n",
    "    n = data.size\n",
    "    nest = n + z**2\n",
    "    pest = ((sum(data) + z**2/2))/nest\n",
    "    return give_output(pest, pest-z*math.sqrt(pest*(1-pest)/n), pest+z*math.sqrt(pest*(1-pest)/n),level, outformat)"
   ]
  },
  {
   "cell_type": "code",
   "execution_count": null,
   "metadata": {},
   "outputs": [],
   "source": [
    "    "
   ]
  },
  {
   "cell_type": "code",
   "execution_count": 41,
   "metadata": {},
   "outputs": [
    {
     "name": "stdout",
     "output_type": "stream",
     "text": [
      "alist is ['0.4667[90%CI:(0.3989,0.5344)]', '0.4667[95%CI:(0.3797,0.5536)]', '0.4667[99%CI:(0.3436,0.5897)]']\n"
     ]
    },
    {
     "data": {
      "text/html": [
       "<div>\n",
       "<style scoped>\n",
       "    .dataframe tbody tr th:only-of-type {\n",
       "        vertical-align: middle;\n",
       "    }\n",
       "\n",
       "    .dataframe tbody tr th {\n",
       "        vertical-align: top;\n",
       "    }\n",
       "\n",
       "    .dataframe thead th {\n",
       "        text-align: right;\n",
       "    }\n",
       "</style>\n",
       "<table border=\"1\" class=\"dataframe\">\n",
       "  <thead>\n",
       "    <tr style=\"text-align: right;\">\n",
       "      <th></th>\n",
       "      <th>standard</th>\n",
       "      <th>Clopper</th>\n",
       "      <th>Jeffery</th>\n",
       "      <th>Agresti</th>\n",
       "      <th>normal thm</th>\n",
       "    </tr>\n",
       "    <tr>\n",
       "      <th>confidence level</th>\n",
       "      <th></th>\n",
       "      <th></th>\n",
       "      <th></th>\n",
       "      <th></th>\n",
       "      <th></th>\n",
       "    </tr>\n",
       "  </thead>\n",
       "  <tbody>\n",
       "    <tr>\n",
       "      <th>90</th>\n",
       "      <td>0.4667[90%CI:(0.3993,0.5341)]</td>\n",
       "      <td>0.4675[90%CI:(0.3765,0.5586)]</td>\n",
       "      <td>0.4674[90%CI:(0.3818,0.5531)]</td>\n",
       "      <td>0.4673[90%CI:(0.3999,0.5347)]</td>\n",
       "      <td>0.4667[90%CI:(0.3989,0.5344)]</td>\n",
       "    </tr>\n",
       "    <tr>\n",
       "      <th>95</th>\n",
       "      <td>0.4667[95%CI:(0.3802,0.5532)]</td>\n",
       "      <td>0.4678[95%CI:(0.3607,0.5749)]</td>\n",
       "      <td>0.4677[95%CI:(0.366,0.5694)]</td>\n",
       "      <td>0.4676[95%CI:(0.3811,0.5541)]</td>\n",
       "      <td>0.4667[95%CI:(0.3797,0.5536)]</td>\n",
       "    </tr>\n",
       "    <tr>\n",
       "      <th>99</th>\n",
       "      <td>0.4667[99%CI:(0.3443,0.589)]</td>\n",
       "      <td>0.4685[99%CI:(0.3306,0.6064)]</td>\n",
       "      <td>0.4684[99%CI:(0.3357,0.601)]</td>\n",
       "      <td>0.4686[99%CI:(0.3462,0.5909)]</td>\n",
       "      <td>0.4667[99%CI:(0.3436,0.5897)]</td>\n",
       "    </tr>\n",
       "  </tbody>\n",
       "</table>\n",
       "</div>"
      ],
      "text/plain": [
       "                                       standard  \\\n",
       "confidence level                                  \n",
       "90                0.4667[90%CI:(0.3993,0.5341)]   \n",
       "95                0.4667[95%CI:(0.3802,0.5532)]   \n",
       "99                 0.4667[99%CI:(0.3443,0.589)]   \n",
       "\n",
       "                                        Clopper  \\\n",
       "confidence level                                  \n",
       "90                0.4675[90%CI:(0.3765,0.5586)]   \n",
       "95                0.4678[95%CI:(0.3607,0.5749)]   \n",
       "99                0.4685[99%CI:(0.3306,0.6064)]   \n",
       "\n",
       "                                        Jeffery  \\\n",
       "confidence level                                  \n",
       "90                0.4674[90%CI:(0.3818,0.5531)]   \n",
       "95                 0.4677[95%CI:(0.366,0.5694)]   \n",
       "99                 0.4684[99%CI:(0.3357,0.601)]   \n",
       "\n",
       "                                        Agresti                     normal thm  \n",
       "confidence level                                                                \n",
       "90                0.4673[90%CI:(0.3999,0.5347)]  0.4667[90%CI:(0.3989,0.5344)]  \n",
       "95                0.4676[95%CI:(0.3811,0.5541)]  0.4667[95%CI:(0.3797,0.5536)]  \n",
       "99                0.4686[99%CI:(0.3462,0.5909)]  0.4667[99%CI:(0.3436,0.5897)]  "
      ]
     },
     "execution_count": 41,
     "metadata": {},
     "output_type": "execute_result"
    }
   ],
   "source": [
    "# ###c.\n",
    "mytable = defaultdict(list)\n",
    "arr = [0]*48 + [1]*42\n",
    "for level in [90,95,99]:\n",
    "    for method in ['standard', 'clopper', 'jeffery', 'agresti']:\n",
    "        mytable[level].append(compute_binomial_interval(arr, level , method, outformat = \"string\"))\n",
    "alist = []\n",
    "for level in [90,95,99]:\n",
    "    alist.append(compute_point_and_interval(arr, level, outformat = \"string\"))\n",
    "print(\"alist is\", alist)\n",
    "mytable = pd.DataFrame(mytable)        \n",
    "mytable = mytable.transpose()\n",
    "mytable.columns = ['standard', 'Clopper', 'Jeffery', 'Agresti']\n",
    "index = mytable.index\n",
    "index.name = 'confidence level'\n",
    "mytable['normal thm'] = alist\n",
    "mytable"
   ]
  },
  {
   "cell_type": "markdown",
   "metadata": {},
   "source": [
    "From above, 90% ci, normal thm produce the tightest Ci while and 95% and 99% confidence intervals both have tightest CI is contructed using Afresti-Coull method."
   ]
  },
  {
   "cell_type": "code",
   "execution_count": null,
   "metadata": {
    "lines_to_next_cell": 2
   },
   "outputs": [],
   "source": []
  }
 ],
 "metadata": {
  "jupytext": {
   "encoding": "# -*- coding: utf-8 -*-",
   "formats": "ipynb,py:light"
  },
  "kernelspec": {
   "display_name": "Python 3",
   "language": "python",
   "name": "python3"
  },
  "language_info": {
   "codemirror_mode": {
    "name": "ipython",
    "version": 3
   },
   "file_extension": ".py",
   "mimetype": "text/x-python",
   "name": "python",
   "nbconvert_exporter": "python",
   "pygments_lexer": "ipython3",
   "version": "3.8.3"
  }
 },
 "nbformat": 4,
 "nbformat_minor": 4
}
