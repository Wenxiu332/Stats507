{
 "cells": [
  {
   "cell_type": "code",
   "execution_count": 1,
   "metadata": {},
   "outputs": [],
   "source": [
    "import numpy as np\n",
    "import random\n",
    "import pandas as pd\n",
    "from timeit import Timer\n",
    "from collections import defaultdict\n",
    "import feather"
   ]
  },
  {
   "cell_type": "markdown",
   "metadata": {},
   "source": [
    "## Question 0"
   ]
  },
  {
   "cell_type": "markdown",
   "metadata": {},
   "source": [
    "a. for a given list of tuples, the function returns a list of tuples, \n",
    "for every group of tuples that share the same first element, the returned list contains and only contains the one whose last element in the tuple is the largest among the group.<br>\n",
    "b. this code doesn't work because it forgets to consider that tuples start counting from one and that indexing the length of a tuple would result in going out of bounds error. This code is not easy to understand because of magic numbers, which I suggust substituting with parameterized numbers instead. Additionally, this code runs O(n^2) time with the double for loop structure, the efficiency could be improved by potentially using a hash table. Last but not list, I suggest the coder adding comments to the code to enhance readablity."
   ]
  },
  {
   "cell_type": "markdown",
   "metadata": {},
   "source": [
    "## Question 1"
   ]
  },
  {
   "cell_type": "code",
   "execution_count": 2,
   "metadata": {
    "lines_to_next_cell": 2
   },
   "outputs": [],
   "source": [
    "def listOfTuples(n, k=3, low = 0, high = 5):\n",
    "    \"\"\"\n",
    "    Generate a list of n tuples of length tup_size of integers low to high.\n",
    "\n",
    "    Parameters\n",
    "    ----------\n",
    "    n : integer\n",
    "        The number of tuples in the list.\n",
    "    tup_size : integer, optional\n",
    "        The length of the tuples created. The default is 3.\n",
    "    low : integer, optional\n",
    "        The low end of the range to generate integers from.\n",
    "    high : integer, optional\n",
    "        The high end of hte range to generate integers from.\n",
    "    rng: A random number generator object, e.g. from np.random.default_rng().\n",
    "        If None, one is created within the context of the function.\n",
    "    \n",
    "    Returns\n",
    "    -------\n",
    "    A list of length `n` with tuples of size `tup_size` consting of uniform\n",
    "    random integers in [low, high).\n",
    "    \"\"\"\n",
    "    res = [tuple(np.random.randint(low, high, size = k)) for i in range(n)]\n",
    "    return res\n",
    "result = listOfTuples(5)\n",
    "#print(result)\n",
    "assert(all(isinstance(item, tuple) for item in result) and isinstance(result, list))\n",
    "# ## Question 2"
   ]
  },
  {
   "cell_type": "markdown",
   "metadata": {},
   "source": [
    "### a"
   ]
  },
  {
   "cell_type": "code",
   "execution_count": 3,
   "metadata": {},
   "outputs": [],
   "source": [
    "def listofbigtup(sample_list):\n",
    "    \"\"\"\n",
    "    Find tuples with maximum value in one position by unique value in another.\n",
    "    \n",
    "    Among all tuples in `tuple_list` sharing a common value in the `by`\n",
    "    position, find those also having maximum value in the `max_of` position. \n",
    "\n",
    "    Parameters\n",
    "    ----------\n",
    "    tuple_list : list of tuples\n",
    "        The list of tuples to organize as described above.\n",
    "    \n",
    "    Returns\n",
    "    -------\n",
    "    A list of all tuples, where, for each unique `by` value, the maximum\n",
    "    value in the `max_of` position is achieved.\n",
    "    \"\"\"\n",
    "    first_index = 0\n",
    "    last_index = len(sample_list[0])-1\n",
    "    op = []\n",
    "    for m in range(len(sample_list)):\n",
    "        li = [sample_list[m]]\n",
    "        for n in range(len(sample_list)):\n",
    "                if (sample_list[m][first_index] == sample_list[n][first_index] and\n",
    "                        sample_list[m][last_index] != sample_list[n][last_index]):\n",
    "                    li.append(sample_list[n])\n",
    "        op.append(sorted(li, key=lambda dd: dd[last_index], reverse=True)[first_index])\n",
    "    res = list(set(op))\n",
    "    return res"
   ]
  },
  {
   "cell_type": "markdown",
   "metadata": {},
   "source": [
    "### b"
   ]
  },
  {
   "cell_type": "code",
   "execution_count": 4,
   "metadata": {},
   "outputs": [],
   "source": [
    "def improvedlistofbigtup(sample_list):\n",
    "    \"\"\"\n",
    "    Find tuples with maximum value in one position by unique value in another.\n",
    "    \n",
    "    Among all tuples in `tuple_list` sharing a common value in the `by`\n",
    "    position, find those also having maximum value in the `max_of` position. \n",
    "\n",
    "    Parameters\n",
    "    ----------\n",
    "    tuple_list : list of tuples\n",
    "        The list of tuples to organize as described above.\n",
    "   \n",
    "    Returns\n",
    "    -------\n",
    "    A list of all tuples, where, for each unique `by` value, the maximum\n",
    "    value in the `max_of` position is achieved.\n",
    "    \"\"\"\n",
    "    first_index = 0\n",
    "    last_index = len(sample_list[0])-1\n",
    "    op = []\n",
    "    for m in range(len(sample_list)):\n",
    "        li = sample_list[m]\n",
    "        for n in range(len(sample_list)):\n",
    "            if (sample_list[m][first_index] == sample_list[n][first_index] and sample_list[m][last_index] < sample_list[n][last_index]):\n",
    "                li = sample_list[n] ## substitute li if current tuple is of same first element and has bigger last element\n",
    "        op.append(li)\n",
    "    res = list(set(op))\n",
    "    return res"
   ]
  },
  {
   "cell_type": "markdown",
   "metadata": {},
   "source": [
    "### c"
   ]
  },
  {
   "cell_type": "code",
   "execution_count": 5,
   "metadata": {
    "lines_to_next_cell": 2
   },
   "outputs": [],
   "source": [
    "def newlistofbigtup(sample_list):\n",
    "    \"\"\"\n",
    "    Find tuples with maximum value in one position by unique value in another.\n",
    "    \n",
    "    Among all tuples in `tuple_list` sharing a common value in the `by`\n",
    "    position, find those also having maximum value in the `max_of` position. \n",
    "\n",
    "    Parameters\n",
    "    ----------\n",
    "    tuple_list : list of tuples\n",
    "        The list of tuples to organize as described above.\n",
    "    \n",
    "    Returns\n",
    "    -------\n",
    "    A list of all tuples, where, for each unique `by` value, the maximum\n",
    "    value in the `max_of` position is achieved.\n",
    "    \"\"\"\n",
    "    mydict = {}\n",
    "    res = []\n",
    "    last_index = len(sample_list[0])-1\n",
    "    for m in sample_list:\n",
    "        if not m[0] in mydict:\n",
    "            mydict[m[0]] = m[last_index]\n",
    "        elif m[last_index] > mydict[m[0]]:\n",
    "            mydict[m[0]] = m[last_index]\n",
    "    for n in sample_list:\n",
    "        if n[last_index] == mydict[n[0]]:\n",
    "            res.append(n)\n",
    "    return res"
   ]
  },
  {
   "cell_type": "markdown",
   "metadata": {
    "lines_to_next_cell": 2
   },
   "source": [
    "### d"
   ]
  },
  {
   "cell_type": "code",
   "execution_count": 6,
   "metadata": {},
   "outputs": [
    {
     "name": "stdout",
     "output_type": "stream",
     "text": [
      "defaultdict(<class 'list'>, {'time': [9.477999981299945e-06, 5.7679999940774e-06, 2.015000006849732e-06]})\n"
     ]
    }
   ],
   "source": [
    "time_nda = defaultdict(list)\n",
    "for f in [listofbigtup, improvedlistofbigtup, newlistofbigtup]:\n",
    "    t = Timer('f(k)', globals={'f': f, 'k':listOfTuples(5,3,0,9)})\n",
    "    tm = t.repeat(repeat=9999, number = 1)\n",
    "    time_nda[\"time\"].append(np.median(tm))\n",
    "print(time_nda)"
   ]
  },
  {
   "cell_type": "markdown",
   "metadata": {},
   "source": [
    "from the median runtime of three methods, we could see that the the function in c is much more efficient compared to b, which is more efficient compared to the function in a."
   ]
  },
  {
   "cell_type": "markdown",
   "metadata": {},
   "source": [
    "## Question 3\n",
    "### a"
   ]
  },
  {
   "cell_type": "code",
   "execution_count": 7,
   "metadata": {
    "lines_to_next_cell": 2
   },
   "outputs": [],
   "source": [
    "\n",
    "table1 = pd.read_sas('/Users/echoliao/Downloads/DEMO_G.XPT')\n",
    "table2 = pd.read_sas('/Users/echoliao/Downloads/DEMO_H.XPT')\n",
    "table3 = pd.read_sas('/Users/echoliao/Downloads/DEMO_I.XPT')\n",
    "table4 = pd.read_sas('/Users/echoliao/Downloads/DEMO_J.XPT')\n",
    "table1 = table1[[\"SEQN\", \"RIAGENDR\",\"RIDAGEYR\",\"RIDRETH3\",\"DMDEDUC2\",\"DMDMARTL\", \n",
    "                \"RIDSTATR\", \"SDMVPSU\", \"SDMVSTRA\", \"WTMEC2YR\", \"WTINT2YR\"]]\n",
    "table2 = table2[[\"SEQN\", \"RIAGENDR\",\"RIDAGEYR\",\"RIDRETH3\",\"DMDEDUC2\",\"DMDMARTL\", \n",
    "                \"RIDSTATR\", \"SDMVPSU\", \"SDMVSTRA\", \"WTMEC2YR\", \"WTINT2YR\"]]\n",
    "table3 = table3[[\"SEQN\", \"RIAGENDR\",\"RIDAGEYR\",\"RIDRETH3\",\"DMDEDUC2\",\"DMDMARTL\", \n",
    "                \"RIDSTATR\", \"SDMVPSU\", \"SDMVSTRA\", \"WTMEC2YR\", \"WTINT2YR\"]]\n",
    "table4 = table4[[\"SEQN\", \"RIAGENDR\",\"RIDAGEYR\",\"RIDRETH3\",\"DMDEDUC2\",\"DMDMARTL\", \n",
    "                \"RIDSTATR\", \"SDMVPSU\", \"SDMVSTRA\", \"WTMEC2YR\", \"WTINT2YR\"]]\n",
    "table1[\"year\"] = pd.Series(\"2011-2012\" for x in range(len(table1.index)))\n",
    "table2[\"year\"] = pd.Series(\"2013-2014\" for x in range(len(table2.index)))\n",
    "table3[\"year\"] = pd.Series(\"2015-2016\" for x in range(len(table3.index)))\n",
    "table4[\"year\"] = pd.Series(\"2017-2018\" for x in range(len(table4.index)))\n",
    "res = table1.append([table2, table3, table4])\n",
    "res.rename({\"SEQN\": \"unique_id\", \"RIDAGEYR\":\"age\",\n",
    "            \"RIDRETH3\":\"race_and_ethnicity\",\"DMDEDUC2\":\"education\",\"DMDMARTL\":\"marital status\", \n",
    "                \"RIDSTATR\":\"interview/examination_status\", \n",
    "                \"SDMVPSU\":\"masked_variance_pseudo_psu\", \n",
    "                \"SDMVSTRA\":\"masked_variance_pseudo-stratum\", \n",
    "                \"WTMEC2YR\":\"full_sample_2_year_mec_exam_weight\", \n",
    "                \"WTINT2YR\":\"full_sample_2_year_interview_weight\"}, axis = 1, inplace =True)\n",
    "res = res.astype({\"unique_id\":str, \"year\":str})"
   ]
  },
  {
   "cell_type": "code",
   "execution_count": 8,
   "metadata": {
    "lines_to_next_cell": 2
   },
   "outputs": [],
   "source": [
    "res.reset_index().to_feather(\"/Users/echoliao/Documents/stats507/demographic.ftr\")"
   ]
  },
  {
   "cell_type": "markdown",
   "metadata": {},
   "source": [
    "### b"
   ]
  },
  {
   "cell_type": "code",
   "execution_count": 9,
   "metadata": {},
   "outputs": [],
   "source": [
    "\n",
    "t1 = pd.read_sas('/Users/echoliao/Downloads/OHXDEN_G.XPT', format= 'xport', encoding='utf-8')\n",
    "a = t1[[\"SEQN\",\"OHDDESTS\"]]\n",
    "b = t1.filter(regex=\"OHX..TC\" )\n",
    "c = t1.filter(regex= \"OHX..CTC\")\n",
    "b = b.replace({1:\"primary_tooth_present\",\n",
    "                                          2:\"permanent_tooth_present\", 3:\"dental_implant\", \n",
    "                                          4:\"tooth_not_present\",\n",
    "                                          5:\"permanent_dental_root_fragment_present\",\n",
    "                                          np.nan:\"missing\"})\n",
    "c = c.replace({\"D\": \"Sound primary tooth\",\n",
    "               \"E\": \"Missing due to dental disease\",\n",
    "               \"J\":\"Permanent root tip is present but no restorative replacement is present\",\n",
    "               \"M\":\"Missing due to other causes\",\n",
    "               \"P\":\"Missing due to dental disease but replaced by a removable restoration\",\n",
    "               \"Q\": \"Missing due to other causes but replaced by a removable restoration\",\n",
    "               \"R\":\"Missing due to dental disease, but replaced by a fixed restoration\",\n",
    "               \"S\":\"Sound permanent tooth\",\n",
    "               \"T\":\"Permanent root tip is present but a restorative replacement is present\",\n",
    "               \"U\":\"Unerupted\",\n",
    "               \"X\":\"Missing due to other causes, but replaced by a fixed restoration\",\n",
    "               \"Y\":\"Tooth present, condition cannot be assessed\",\n",
    "               \"Z\":\"Permanent tooth with surface condition (s)\",\n",
    "               np.nan:\"missing\"\n",
    "    })\n",
    "t1 = pd.concat([a,b,c], axis = 1)\n",
    "columnlist = [\"unique_id\", \"dentition_status_code\"]\n",
    "for num in range(32):\n",
    "    columnlist.append(\"tooth_count\" + str(num+1))\n",
    "for num in range(14):\n",
    "    columnlist.append(\"coronal_caries\" + str(num+2))\n",
    "for num in range(14):\n",
    "    columnlist.append(\"coronal_caries\" + str(num+18))\n",
    "t2 = pd.read_sas('/Users/echoliao/Downloads/OHXDEN_H.XPT', format= 'xport', encoding='utf-8')\n",
    "d = t2[[\"SEQN\",\"OHDDESTS\"]]\n",
    "e = t2.filter(regex=\"OHX..TC\" )\n",
    "f = t2.filter(regex= \"OHX..CTC\")\n",
    "e = e.replace({1:\"primary_tooth_present\",\n",
    "                                          2:\"permanent_tooth_present\", 3:\"dental_implant\", \n",
    "                                          4:\"tooth_not_present\",\n",
    "                                          5:\"permanent_dental_root_fragment_present\",\n",
    "                                          np.nan:\"missing\"})\n",
    "f = f.replace({\"D\": \"Sound primary tooth\",\n",
    "               \"E\": \"Missing due to dental disease\",\n",
    "               \"J\":\"Permanent root tip is present but no restorative replacement is present\",\n",
    "               \"M\":\"Missing due to other causes\",\n",
    "               \"P\":\"Missing due to dental disease but replaced by a removable restoration\",\n",
    "               \"Q\": \"Missing due to other causes but replaced by a removable restoration\",\n",
    "               \"R\":\"Missing due to dental disease, but replaced by a fixed restoration\",\n",
    "               \"S\":\"Sound permanent tooth\",\n",
    "               \"T\":\"Permanent root tip is present but a restorative replacement is present\",\n",
    "               \"U\":\"Unerupted\",\n",
    "               \"X\":\"Missing due to other causes, but replaced by a fixed restoration\",\n",
    "               \"Y\":\"Tooth present, condition cannot be assessed\",\n",
    "               \"Z\":\"Permanent tooth with surface condition (s)\",\n",
    "               np.nan:\"missing\"\n",
    "    })\n",
    "t2 = pd.concat([d,e,f], axis = 1)\n",
    "t3 = pd.read_sas('/Users/echoliao/Downloads/OHXDEN_I.XPT', format= 'xport', encoding='utf-8')\n",
    "g = t3[[\"SEQN\",\"OHDDESTS\"]]\n",
    "h = t3.filter(regex=\"OHX..TC\" )\n",
    "i = t3.filter(regex= \"OHX..CTC\")\n",
    "h = h.replace({1:\"primary_tooth_present\",\n",
    "                                          2:\"permanent_tooth_present\", 3:\"dental_implant\", \n",
    "                                          4:\"tooth_not_present\",\n",
    "                                          5:\"permanent_dental_root_fragment_present\",\n",
    "                                          np.nan:\"missing\"})\n",
    "i = i.replace({\"D\": \"Sound primary tooth\",\n",
    "               \"E\": \"Missing due to dental disease\",\n",
    "               \"J\":\"Permanent root tip is present but no restorative replacement is present\",\n",
    "               \"M\":\"Missing due to other causes\",\n",
    "               \"P\":\"Missing due to dental disease but replaced by a removable restoration\",\n",
    "               \"Q\": \"Missing due to other causes but replaced by a removable restoration\",\n",
    "               \"R\":\"Missing due to dental disease, but replaced by a fixed restoration\",\n",
    "               \"S\":\"Sound permanent tooth\",\n",
    "               \"T\":\"Permanent root tip is present but a restorative replacement is present\",\n",
    "               \"U\":\"Unerupted\",\n",
    "               \"X\":\"Missing due to other causes, but replaced by a fixed restoration\",\n",
    "               \"Y\":\"Tooth present, condition cannot be assessed\",\n",
    "               \"Z\":\"Permanent tooth with surface condition (s)\",\n",
    "               np.nan:\"missing\"\n",
    "    })\n",
    "t3 = pd.concat([g,h,i], axis = 1)\n",
    "t4 = pd.read_sas('/Users/echoliao/Downloads/OHXDEN_J.XPT', format= 'xport', encoding='utf-8')\n",
    "j = t4[[\"SEQN\",\"OHDDESTS\"]]\n",
    "k = t4.filter(regex=\"OHX..TC\" )\n",
    "l = t4.filter(regex= \"OHX..CTC\")\n",
    "k = k.replace({1:\"primary_tooth_present\",\n",
    "                                          2:\"permanent_tooth_present\", 3:\"dental_implant\", \n",
    "                                          4:\"tooth_not_present\",\n",
    "                                          5:\"permanent_dental_root_fragment_present\",\n",
    "                                          np.nan:\"missing\"})\n",
    "l = l.replace({\"D\": \"Sound primary tooth\",\n",
    "               \"E\": \"Missing due to dental disease\",\n",
    "               \"J\":\"Permanent root tip is present but no restorative replacement is present\",\n",
    "               \"M\":\"Missing due to other causes\",\n",
    "               \"P\":\"Missing due to dental disease but replaced by a removable restoration\",\n",
    "               \"Q\": \"Missing due to other causes but replaced by a removable restoration\",\n",
    "               \"R\":\"Missing due to dental disease, but replaced by a fixed restoration\",\n",
    "               \"S\":\"Sound permanent tooth\",\n",
    "               \"K\":\"Primary tooth with surface condition (s)\",\n",
    "               \"T\":\"Permanent root tip is present but a restorative replacement is present\",\n",
    "               \"U\":\"Unerupted\",\n",
    "               \"X\":\"Missing due to other causes, but replaced by a fixed restoration\",\n",
    "               \"Y\":\"Tooth present, condition cannot be assessed\",\n",
    "               \"Z\":\"Permanent tooth with surface condition (s)\",\n",
    "               np.nan:\"missing\"\n",
    "    })\n",
    "t4 = pd.concat([j,k,l], axis = 1)\n",
    "t1[\"year\"] = pd.Series(\"2011-2012\" for x in range(len(t1.index)))\n",
    "t2[\"year\"] = pd.Series(\"2013-2014\" for x in range(len(t2.index)))\n",
    "t3[\"year\"] = pd.Series(\"2015-2016\" for x in range(len(t3.index)))\n",
    "t4[\"year\"] = pd.Series(\"2017-2018\" for x in range(len(t4.index)))\n",
    "res1 = pd.concat([t1,t2,t3,t4], axis = 0)\n",
    "columnlist.append(\"year\")\n",
    "res1.columns = columnlist\n",
    "res1 = res1.astype({\"unique_id\":str, \"year\":str})\n",
    "res1[\"dentition_status_code\"] = res1[\"dentition_status_code\"].replace({1:\"complete\", 2:\"partial\",3:\"not_done\"})\n",
    "res1.reset_index().to_feather(\"/Users/echoliao/Documents/stats507/oral.ftr\")"
   ]
  },
  {
   "cell_type": "markdown",
   "metadata": {},
   "source": [
    "### c"
   ]
  },
  {
   "cell_type": "markdown",
   "metadata": {},
   "source": [
    "total number of cases in the demographics dataset is 39156.\n",
    "and total number of cases in the oral dataset is 35909."
   ]
  }
 ],
 "metadata": {
  "jupytext": {
   "formats": "ipynb,py:light"
  },
  "kernelspec": {
   "display_name": "Python 3",
   "language": "python",
   "name": "python3"
  },
  "language_info": {
   "codemirror_mode": {
    "name": "ipython",
    "version": 3
   },
   "file_extension": ".py",
   "mimetype": "text/x-python",
   "name": "python",
   "nbconvert_exporter": "python",
   "pygments_lexer": "ipython3",
   "version": "3.8.3"
  }
 },
 "nbformat": 4,
 "nbformat_minor": 4
}
